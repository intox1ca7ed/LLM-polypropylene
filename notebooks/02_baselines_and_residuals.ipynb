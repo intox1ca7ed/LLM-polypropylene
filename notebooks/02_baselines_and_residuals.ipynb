{
 "cells": [
  {
   "cell_type": "markdown",
   "id": "52751e81",
   "metadata": {},
   "source": [
    "# Baselines & Residual Signal\n",
    "\n",
    "Quick baselines for polypropylene (PP) using naive/seasonal/ETS methods and crude-driven regressions. Outputs feed the next-stage feature work."
   ]
  },
  {
   "cell_type": "code",
   "execution_count": null,
   "id": "2e7d563e",
   "metadata": {},
   "outputs": [],
   "source": [
    "%pip install -q pandas numpy matplotlib seaborn statsmodels scikit-learn"
   ]
  },
  {
   "cell_type": "code",
   "execution_count": null,
   "id": "c39056fc",
   "metadata": {},
   "outputs": [],
   "source": [
    "from pathlib import Path\n",
    "import sys\n",
    "import pandas as pd\n",
    "import matplotlib.pyplot as plt\n",
    "import statsmodels.api as sm\n",
    "from IPython.display import Markdown, display\n",
    "\n",
    "ROOT = Path.cwd().parent\n",
    "ART = ROOT / \"artifacts\"\n",
    "PLOTS = ROOT / \"plots\"\n",
    "PLOTS.mkdir(exist_ok=True, parents=True)\n",
    "sys.path.insert(0, str(ROOT / \"src\"))\n",
    "\n",
    "from eda_utils import compute_log_returns, plot_rolling_vol\n",
    "from baseline_utils import (\n",
    "    forecast_holt_winters,\n",
    "    forecast_naive,\n",
    "    forecast_seasonal_naive,\n",
    "    fit_ols_returns,\n",
    "    metrics,\n",
    "    plot_forecast_vs_actual,\n",
    "    plot_residuals,\n",
    "    plot_stl,\n",
    "    rolling_origin_backtest,\n",
    "    train_test_split_ts,\n",
    ")\n",
    "plt.rcParams['figure.dpi'] = 150\n"
   ]
  },
  {
   "cell_type": "markdown",
   "id": "ad6b9664",
   "metadata": {},
   "source": [
    "## Load inputs\n",
    "\n",
    "Re-use cleaned artifacts from notebook 01. Abort gracefully if missing."
   ]
  },
  {
   "cell_type": "code",
   "execution_count": null,
   "id": "97ca0eb9",
   "metadata": {},
   "outputs": [],
   "source": [
    "prices_path = ART / \"merged_monthly_prices.csv\"\n",
    "returns_path = ART / \"merged_monthly_returns.csv\"\n",
    "if not prices_path.exists() or not returns_path.exists():\n",
    "    display(Markdown(\"**Run notebook 01 first to generate monthly artifacts.**\"))\n",
    "    raise SystemExit\n",
    "prices = pd.read_csv(prices_path, index_col=0, parse_dates=True)\n",
    "returns = pd.read_csv(returns_path, index_col=0, parse_dates=True)\n",
    "required_cols = {\"PP\", \"CRUDE\"}\n",
    "if not required_cols.issubset(prices.columns):\n",
    "    display(Markdown(\"**Need PP and CRUDE columns; rerun notebook 01 with crude data.**\"))\n",
    "    required_cols = {\"PP\"}\n",
    "pp_levels = prices.get(\"PP\")\n",
    "pp_returns = returns.get(\"PP\")\n",
    "crude_returns = returns.get(\"CRUDE\") if \"CRUDE\" in returns else None\n"
   ]
  },
  {
   "cell_type": "markdown",
   "id": "79f91af8",
   "metadata": {},
   "source": [
    "## Train/test split\n",
    "\n",
    "Use the last 24 months as holdout (falls back to 20% if shorter)."
   ]
  },
  {
   "cell_type": "code",
   "execution_count": null,
   "id": "9e2490c0",
   "metadata": {},
   "outputs": [],
   "source": [
    "test_horizon = min(24, max(1, int(round(len(pp_levels) * 0.2))))\n",
    "pp_train, pp_test = train_test_split_ts(pp_levels, test_horizon)\n",
    "display(Markdown(f\"Train span: {pp_train.index.min().date()} to {pp_train.index.max().date()}\"))\n",
    "display(Markdown(f\"Test span: {pp_test.index.min().date()} to {pp_test.index.max().date()}\"))\n"
   ]
  },
  {
   "cell_type": "markdown",
   "id": "62cc92e8",
   "metadata": {},
   "source": [
    "## Baseline forecasts (levels)"
   ]
  },
  {
   "cell_type": "code",
   "execution_count": null,
   "id": "71e65168",
   "metadata": {},
   "outputs": [],
   "source": [
    "baseline_preds = {}\n",
    "baseline_metrics = []\n",
    "naive_pred = forecast_naive(pp_levels)\n",
    "baseline_preds['Naive'] = naive_pred\n",
    "baseline_metrics.append({\"model\": \"Naive\", **metrics(pp_test, naive_pred)})\n",
    "if len(pp_train) >= 24:\n",
    "    seasonal_pred = forecast_seasonal_naive(pp_levels)\n",
    "    baseline_preds['SeasonalNaive'] = seasonal_pred\n",
    "    baseline_metrics.append({\"model\": \"SeasonalNaive\", **metrics(pp_test, seasonal_pred)})\n",
    "else:\n",
    "    display(Markdown(\"*Seasonal naive skipped (need >=24 months).*\"))\n",
    "if len(pp_train) >= 24:\n",
    "    try:\n",
    "        hw_fitted = forecast_holt_winters(pp_levels)\n",
    "        baseline_preds['HoltWinters'] = hw_fitted\n",
    "        baseline_metrics.append({\"model\": \"HoltWinters\", **metrics(pp_test, hw_fitted)})\n",
    "    except ValueError as exc:\n",
    "        display(Markdown(f\"*Holt-Winters skipped: {exc}*\"))\n",
    "else:\n",
    "    display(Markdown(\"*Holt-Winters skipped (need >=24 months).*\"))\n",
    "\n",
    "fig = plot_forecast_vs_actual(pp_test.index, pp_test, naive_pred, \"Naive forecast vs actual\")\n",
    "display(fig)\n",
    "fig.savefig(PLOTS / \"baseline_naive_vs_actual.png\", bbox_inches='tight')\n",
    "plt.close(fig)\n",
    "if 'HoltWinters' in baseline_preds:\n",
    "    fig = plot_forecast_vs_actual(pp_test.index, pp_test, baseline_preds['HoltWinters'], \"Holt-Winters vs actual\")\n",
    "    display(fig)\n",
    "    fig.savefig(PLOTS / \"baseline_holt_winters_vs_actual.png\", bbox_inches='tight')\n",
    "    plt.close(fig)\n"
   ]
  },
  {
   "cell_type": "markdown",
   "id": "2d49b4c5",
   "metadata": {},
   "source": [
    "_Figure note:_ The baseline overlays (naive and Holt-Winters where available) make it easy to see whether simple level extrapolations keep pace with the holdout reality."
   ]
  },
  {
   "cell_type": "markdown",
   "id": "6ec47ce4",
   "metadata": {},
   "source": [
    "## Crude-driven regression (if crude available)"
   ]
  },
  {
   "cell_type": "code",
   "execution_count": null,
   "id": "cd6e77f2",
   "metadata": {},
   "outputs": [],
   "source": [
    "rolling_results = pd.DataFrame()\n",
    "if crude_returns is not None:\n",
    "    model, features = fit_ols_returns(pp_returns, crude_returns, lags=3)\n",
    "    aligned_pp_ret = pp_returns.loc[features.index]\n",
    "    train_ret, test_ret = train_test_split_ts(aligned_pp_ret, test_horizon)\n",
    "    full_ret = pd.concat([train_ret, test_ret])\n",
    "    full_features = features.loc[full_ret.index]\n",
    "    rolling_results = rolling_origin_backtest(full_ret, full_features)\n",
    "    backtest_pred = rolling_results.set_index('date')['y_pred']\n",
    "    fig = plot_forecast_vs_actual(backtest_pred.index, test_ret, backtest_pred, \"Crude-lag OLS vs actual\")\n",
    "    display(fig)\n",
    "    fig.savefig(PLOTS / \"baseline_crude_ols_vs_actual.png\", bbox_inches='tight')\n",
    "    plt.close(fig)\n",
    "    metrics_dict = metrics(test_ret, backtest_pred)\n",
    "    baseline_metrics.append({\"model\": \"CrudeLagOLS\", **metrics_dict})\n",
    "    sig = model.pvalues[model.pvalues < 0.05]\n",
    "    display(Markdown(f\"Significant lags (p<0.05): {sig.to_dict()}\"))\n",
    "    display(Markdown(f\"Model R²: {model.rsquared:.2f}\"))\n",
    "else:\n",
    "    display(Markdown(\"**Crude returns unavailable; skipping regression.**\"))\n"
   ]
  },
  {
   "cell_type": "markdown",
   "id": "b83941dd",
   "metadata": {},
   "source": [
    "_Regression insight:_ The backtest above shows how a simple crude-lag OLS model tracks PP; compare the plotted curve and printed metrics/p-values to see which lags matter and whether the fit materially improves over naive baselines. In most samples the contemporaneous and 1-month crude shocks dominate—check the p-values and the reported R² to confirm the strength in your run."
   ]
  },
  {
   "cell_type": "markdown",
   "id": "b2e4922a",
   "metadata": {},
   "source": [
    "## Idiosyncratic residual (PP minus crude-driven fit)"
   ]
  },
  {
   "cell_type": "code",
   "execution_count": null,
   "id": "13619c31",
   "metadata": {},
   "outputs": [],
   "source": [
    "if crude_returns is not None:\n",
    "    model, features = fit_ols_returns(pp_returns, crude_returns, lags=3)\n",
    "    alignment = features.index\n",
    "    preds = model.predict(sm.add_constant(features, has_constant='add'))\n",
    "    resid = pp_returns.loc[alignment] - preds\n",
    "    resid.name = \"pp_idiosyncratic_residual\"\n",
    "    resid.to_csv(ART / \"pp_idiosyncratic_residual.csv\")\n",
    "    fig = plot_residuals(resid, \"PP idiosyncratic residual vs crude model\")\n",
    "    display(fig)\n",
    "    fig.savefig(PLOTS / \"pp_idiosyncratic_residual.png\", bbox_inches='tight')\n",
    "    plt.close(fig)\n",
    "    display(Markdown(\"This residual is what news/NLP features should explain later.\"))\n",
    "else:\n",
    "    display(Markdown(\"Residual analysis skipped (no crude returns).\"))\n"
   ]
  },
  {
   "cell_type": "markdown",
   "id": "364e72f4",
   "metadata": {},
   "source": [
    "_Residual context:_ The residual series isolates PP moves unexplained by crude—these are the innovations future news/NLP features should target."
   ]
  },
  {
   "cell_type": "markdown",
   "id": "5d38d2c4",
   "metadata": {},
   "source": [
    "## Regime visuals"
   ]
  },
  {
   "cell_type": "code",
   "execution_count": null,
   "id": "a48601d4",
   "metadata": {},
   "outputs": [],
   "source": [
    "try:\n",
    "    fig = plot_stl(pp_levels, \"PP STL decomposition\")\n",
    "    display(fig)\n",
    "    fig.savefig(PLOTS / \"pp_stl_decomposition.png\", bbox_inches='tight')\n",
    "    plt.close(fig)\n",
    "except ValueError as exc:\n",
    "    display(Markdown(f\"*STL skipped: {exc}*\"))\n",
    "vol_inputs = {\"PP\": pp_returns}\n",
    "if crude_returns is not None:\n",
    "    vol_inputs[\"Crude\"] = crude_returns\n",
    "fig = plot_rolling_vol(vol_inputs, window=12, title=\"Rolling 12M volatility\")\n",
    "display(fig)\n",
    "fig.savefig(PLOTS / \"rolling_vol_pp_crude.png\", bbox_inches='tight')\n",
    "plt.close(fig)\n"
   ]
  },
  {
   "cell_type": "markdown",
   "id": "2b3d6be4",
   "metadata": {},
   "source": [
    "_Regime takeaway:_ STL separates long-term trend, recurring seasonality, and residual noise, while the rolling-vol chart compares PP and crude turbulence through time."
   ]
  },
  {
   "cell_type": "markdown",
   "id": "700a506c",
   "metadata": {},
   "source": [
    "## Scorecard"
   ]
  },
  {
   "cell_type": "code",
   "execution_count": null,
   "id": "b30f63ea",
   "metadata": {},
   "outputs": [],
   "source": [
    "metrics_df = pd.DataFrame(baseline_metrics)\n",
    "if not metrics_df.empty:\n",
    "    display(metrics_df.round(3))\n",
    "    metrics_df.to_csv(ART / \"baseline_metrics.csv\", index=False)\n",
    "    if 'CrudeLagOLS' in metrics_df['model'].values and 'SeasonalNaive' in metrics_df['model'].values:\n",
    "        rmse_crude = metrics_df.loc[metrics_df['model']=='CrudeLagOLS','RMSE'].iloc[0]\n",
    "        rmse_seasonal = metrics_df.loc[metrics_df['model']=='SeasonalNaive','RMSE'].iloc[0]\n",
    "        improvement = (rmse_seasonal - rmse_crude) / rmse_seasonal * 100\n",
    "        display(Markdown(f\"Crude-lag model beats seasonal naive by {improvement:.1f}% RMSE.\"))\n",
    "else:\n",
    "    display(Markdown(\"**Metrics unavailable; check data and rerun.**\"))\n"
   ]
  },
  {
   "cell_type": "markdown",
   "id": "56c9488e",
   "metadata": {},
   "source": [
    "_Scorecard guide:_ Focus on RMSE/MAPE to compare models; the crude-driven row should show whether adding lagged crude returns yields material error reduction."
   ]
  }
 ],
 "metadata": {
  "kernelspec": {
   "display_name": "Python 3",
   "language": "python",
   "name": "python3"
  },
  "language_info": {
   "name": "python",
   "version": "3.12"
  }
 },
 "nbformat": 4,
 "nbformat_minor": 5
}
